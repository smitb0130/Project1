{
  "nbformat": 4,
  "nbformat_minor": 0,
  "metadata": {
    "colab": {
      "name": "Excercise1_Smitb_1913006.ipynb",
      "provenance": [],
      "collapsed_sections": [],
      "authorship_tag": "ABX9TyN7o15ytJw3heCaCL6xd66z",
      "include_colab_link": true
    },
    "kernelspec": {
      "name": "python3",
      "display_name": "Python 3"
    }
  },
  "cells": [
    {
      "cell_type": "markdown",
      "metadata": {
        "id": "view-in-github",
        "colab_type": "text"
      },
      "source": [
        "<a href=\"https://colab.research.google.com/github/smitb0130/Project1/blob/master/Excercise1_Smitb_1913006.ipynb\" target=\"_parent\"><img src=\"https://colab.research.google.com/assets/colab-badge.svg\" alt=\"Open In Colab\"/></a>"
      ]
    },
    {
      "cell_type": "code",
      "metadata": {
        "id": "9U9lGnlm1x-0",
        "colab_type": "code",
        "colab": {
          "base_uri": "https://localhost:8080/",
          "height": 68
        },
        "outputId": "2e42c43e-29b1-4c42-8cea-767e9e2b0b27"
      },
      "source": [
        "print(\"***This is program to check the input is character or a number***\")\n",
        "x=input(\"Enter Something: \")\n",
        "if(x>='A' and x<='Z'):\n",
        "  print(\"Uppercase Character.\")\n",
        "elif(x>='a' and x<='z'):\n",
        "  print(\"Lowercase Character:\")\n",
        "elif(x>='0' and x<='9'):\n",
        "  print(\"It is a number.\")\n",
        "else:\n",
        "  print(\"Please give a valip input.\")"
      ],
      "execution_count": 31,
      "outputs": [
        {
          "output_type": "stream",
          "text": [
            "***This is program to check the input is character or a number***\n",
            "Enter Something: 12\n",
            "It is a number.\n"
          ],
          "name": "stdout"
        }
      ]
    },
    {
      "cell_type": "code",
      "metadata": {
        "id": "uw4hHB2WxgPw",
        "colab_type": "code",
        "colab": {
          "base_uri": "https://localhost:8080/",
          "height": 68
        },
        "outputId": "06c91a7a-ecae-4ee5-8fb8-e43659321857"
      },
      "source": [
        "print(\"****This is a program to  calculate sum of a digits of a number****\")\n",
        "x=input(\"Enter Any number: \")\n",
        "n=len(x)\n",
        "sum=0\n",
        "i=0\n",
        "while i<=(n-1):\n",
        "       if(n==1):\n",
        "         print(\"Please enter a valid number more than one digit\")\n",
        "         break\n",
        "       else:\n",
        "          sum=int(sum)+int(x[i])\n",
        "          i+=1\n",
        "print(\"Sum is \",sum)"
      ],
      "execution_count": 25,
      "outputs": [
        {
          "output_type": "stream",
          "text": [
            "****This is a program to  calculate sum of a digits of a number****\n",
            "Enter Any number: 123\n",
            "Sum is  6\n"
          ],
          "name": "stdout"
        }
      ]
    },
    {
      "cell_type": "code",
      "metadata": {
        "id": "5GoUEMBVIQAW",
        "colab_type": "code",
        "colab": {
          "base_uri": "https://localhost:8080/",
          "height": 153
        },
        "outputId": "1ddb09a5-118a-49e2-a4a5-01060d1c466f"
      },
      "source": [
        "print(\"***This is a program to calculate the value of installment***\")\n",
        "t=int(input(\"Enter the time for your investment: \"))\n",
        "p=int(input(\"Enter an initial Amount for your investment: \"))\n",
        "r=float(input(\"Enter the Annual Rate of interest per year: \"))\n",
        "i=p*((1+(r/100)))**t\n",
        "print(\"Time for your investment: \",t)\n",
        "print(\"Principal amount for your investment: \",p)\n",
        "print(\"Annual rate of interest for your investment: \",r)\n",
        "print(\"Value of your interest over time is: \",i)\n"
      ],
      "execution_count": 35,
      "outputs": [
        {
          "output_type": "stream",
          "text": [
            "***This is a program to calculate the value of installment***\n",
            "Enter the time for your investment: 2\n",
            "Enter an initial Amount for your investment: 500\n",
            "Enter the Annual Rate of interest per year: 2\n",
            "Time for your investment:  2\n",
            "Principal amount for your investment:  500\n",
            "Annual rate of interest for your investment:  2.0\n",
            "Value of your interest over time is:  520.2\n"
          ],
          "name": "stdout"
        }
      ]
    },
    {
      "cell_type": "code",
      "metadata": {
        "id": "84BMxeQ6NMf7",
        "colab_type": "code",
        "colab": {
          "base_uri": "https://localhost:8080/",
          "height": 153
        },
        "outputId": "45cae0df-5eef-4f93-bd4e-7e85317ecf21"
      },
      "source": [
        "\n",
        "print(\"***This is a program to calculate Parking charges for a vehicle***\")\n",
        "x=input(\"Press b for Bus Or Truck\\nPress c for Car\\nPress s for Scooter\\nAnswer: \")\n",
        "t=int(input(\"Enter the time you want to park your vehicle: \"))\n",
        "if(x=='b' or x=='B'):\n",
        "  print(\"The charges for parking a Bus/Truck are 20Rs/hr.\")\n",
        "  c=20*t\n",
        "  print(f\"Your charges for parking for {t} hours are:{c} Rs/-\")\n",
        "elif(x=='c' or x=='C'):\n",
        "  print(\"The charges for parking a Car are 10Rs/hr.\")\n",
        "  c=10*t\n",
        "  print(f\"Your charges for parking for {t} hours are:{c}Rs/-\")\n",
        "elif(x=='s' or x=='S'):\n",
        "  print(\"The charges for parking a Scooter or Cycle are 10Rs/hr.\")\n",
        "  c=5*t\n",
        "  print(f\"Your charges for parking for {t} hours are:{c}Rs/-\")\n",
        "  \n"
      ],
      "execution_count": 42,
      "outputs": [
        {
          "output_type": "stream",
          "text": [
            "***This is a program to calculate Parking charges for a vehicle***\n",
            "Press b for Bus Or Truck\n",
            "Press c for Car\n",
            "Press s for Scooter\n",
            "Answer: S\n",
            "Enter the time you want to park your vehicle: 2\n",
            "The charges for parking a Scooter or Cycle are 10Rs/hr.\n",
            "Your charges for parking for 2 hours are:10Rs/-\n"
          ],
          "name": "stdout"
        }
      ]
    },
    {
      "cell_type": "code",
      "metadata": {
        "id": "keiyRbPZeOxz",
        "colab_type": "code",
        "colab": {
          "base_uri": "https://localhost:8080/",
          "height": 85
        },
        "outputId": "74a8c979-8add-4cb1-c1bc-1839ee63dfba"
      },
      "source": [
        "def convert_time(h, m):\n",
        "    m= h*60+m\n",
        "    return m\n",
        "print(\"***This is a program to convert time in minutes***\")\n",
        "h=int(input(\"Enter the hours:\"))\n",
        "m=int(input(\"Enter the minutes:\"))\n",
        "m=convert_time(h,m)\n",
        "print(\"Total Minutes=\",m)\n",
        "\n"
      ],
      "execution_count": 48,
      "outputs": [
        {
          "output_type": "stream",
          "text": [
            "***This is a program to convert time in minutes***\n",
            "Enter the hours:25\n",
            "Enter the minutes:00\n",
            "Total Minutes= 1500\n"
          ],
          "name": "stdout"
        }
      ]
    }
  ]
}